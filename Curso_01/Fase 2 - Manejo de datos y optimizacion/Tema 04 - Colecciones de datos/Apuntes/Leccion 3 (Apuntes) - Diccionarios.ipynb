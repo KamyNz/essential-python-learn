{
 "cells": [
  {
   "cell_type": "markdown",
   "metadata": {},
   "source": [
    "# Los diccionarios\n",
    "Son junto a las listas las colecciones más utilizadas. Se basan en una estructura mapeada donde cada elemento de la colección se encuentra identificado con una clave única. Por tanto, no puede haber dos claves iguales. En otros lenguajes se conocen como arreglos asociativos."
   ]
  },
  {
   "cell_type": "code",
   "execution_count": 1,
   "metadata": {
    "collapsed": true
   },
   "outputs": [],
   "source": [
    "vacio = {}\n",
    "conjunto = set()"
   ]
  },
  {
   "cell_type": "code",
   "execution_count": 2,
   "metadata": {
    "collapsed": false
   },
   "outputs": [
    {
     "data": {
      "text/plain": [
       "{}"
      ]
     },
     "execution_count": 2,
     "metadata": {},
     "output_type": "execute_result"
    }
   ],
   "source": [
    "vacio"
   ]
  },
  {
   "cell_type": "code",
   "execution_count": 2,
   "metadata": {
    "collapsed": false
   },
   "outputs": [
    {
     "data": {
      "text/plain": [
       "set()"
      ]
     },
     "execution_count": 2,
     "metadata": {},
     "output_type": "execute_result"
    }
   ],
   "source": [
    "conjunto"
   ]
  },
  {
   "cell_type": "code",
   "execution_count": 3,
   "metadata": {
    "collapsed": false
   },
   "outputs": [
    {
     "name": "stdout",
     "output_type": "stream",
     "text": [
      "<class 'set'>\n"
     ]
    }
   ],
   "source": [
    "conjunto_vocales = {'a','e','i','o','u'}\n",
    "print(type(conjunto_vocales))"
   ]
  },
  {
   "cell_type": "markdown",
   "metadata": {},
   "source": [
    "### Tipo de una variable"
   ]
  },
  {
   "cell_type": "code",
   "execution_count": 3,
   "metadata": {
    "collapsed": false
   },
   "outputs": [
    {
     "data": {
      "text/plain": [
       "dict"
      ]
     },
     "execution_count": 3,
     "metadata": {},
     "output_type": "execute_result"
    }
   ],
   "source": [
    "type(vacio)"
   ]
  },
  {
   "cell_type": "markdown",
   "metadata": {},
   "source": [
    "## Definición\n",
    "### Para cada elemento se define la estructura -> clave:valor"
   ]
  },
  {
   "cell_type": "code",
   "execution_count": 13,
   "metadata": {
    "collapsed": true
   },
   "outputs": [],
   "source": [
    "colores = {'amarillo':'yellow','azul':'blue'}"
   ]
  },
  {
   "cell_type": "code",
   "execution_count": 14,
   "metadata": {
    "collapsed": true
   },
   "outputs": [],
   "source": [
    "colores['gris'] = 'gray'"
   ]
  },
  {
   "cell_type": "markdown",
   "metadata": {},
   "source": [
    "### También se pueden añadir elementos sobre la marcha"
   ]
  },
  {
   "cell_type": "code",
   "execution_count": 16,
   "metadata": {
    "collapsed": true
   },
   "outputs": [],
   "source": [
    "colores['verde'] = 'green'"
   ]
  },
  {
   "cell_type": "code",
   "execution_count": 17,
   "metadata": {
    "collapsed": false
   },
   "outputs": [
    {
     "data": {
      "text/plain": [
       "{'amarillo': 'yellow', 'azul': 'blue', 'gris': 'gray', 'verde': 'green'}"
      ]
     },
     "execution_count": 17,
     "metadata": {},
     "output_type": "execute_result"
    }
   ],
   "source": [
    "colores"
   ]
  },
  {
   "cell_type": "code",
   "execution_count": 6,
   "metadata": {
    "collapsed": false
   },
   "outputs": [
    {
     "data": {
      "text/plain": [
       "'blue'"
      ]
     },
     "execution_count": 6,
     "metadata": {},
     "output_type": "execute_result"
    }
   ],
   "source": [
    "colores['azul']"
   ]
  },
  {
   "cell_type": "code",
   "execution_count": 7,
   "metadata": {
    "collapsed": false
   },
   "outputs": [
    {
     "data": {
      "text/plain": [
       "'yellow'"
      ]
     },
     "execution_count": 7,
     "metadata": {},
     "output_type": "execute_result"
    }
   ],
   "source": [
    "colores['amarillo']"
   ]
  },
  {
   "cell_type": "markdown",
   "metadata": {},
   "source": [
    "### Las claves también pueden ser números, pero son un poco confusas"
   ]
  },
  {
   "cell_type": "code",
   "execution_count": 8,
   "metadata": {
    "collapsed": true
   },
   "outputs": [],
   "source": [
    "numeros = {10:'diez',20:'veinte'}"
   ]
  },
  {
   "cell_type": "code",
   "execution_count": 9,
   "metadata": {
    "collapsed": false
   },
   "outputs": [
    {
     "data": {
      "text/plain": [
       "'diez'"
      ]
     },
     "execution_count": 9,
     "metadata": {},
     "output_type": "execute_result"
    }
   ],
   "source": [
    "numeros[10]"
   ]
  },
  {
   "cell_type": "markdown",
   "metadata": {},
   "source": [
    "### Modificación de valor a partir de la clave"
   ]
  },
  {
   "cell_type": "code",
   "execution_count": 10,
   "metadata": {
    "collapsed": true
   },
   "outputs": [],
   "source": [
    "colores['amarillo'] = 'white'"
   ]
  },
  {
   "cell_type": "code",
   "execution_count": 11,
   "metadata": {
    "collapsed": false
   },
   "outputs": [
    {
     "data": {
      "text/plain": [
       "{'amarillo': 'white', 'azul': 'blue', 'verde': 'green'}"
      ]
     },
     "execution_count": 11,
     "metadata": {},
     "output_type": "execute_result"
    }
   ],
   "source": [
    "colores"
   ]
  },
  {
   "cell_type": "markdown",
   "metadata": {},
   "source": [
    "### Función del()\n",
    "Sirve para borrar un elemento del diccionario."
   ]
  },
  {
   "cell_type": "code",
   "execution_count": 12,
   "metadata": {
    "collapsed": true
   },
   "outputs": [],
   "source": [
    "del(colores['amarillo'])"
   ]
  },
  {
   "cell_type": "code",
   "execution_count": 12,
   "metadata": {
    "collapsed": false
   },
   "outputs": [
    {
     "ename": "NameError",
     "evalue": "name 'colores' is not defined",
     "output_type": "error",
     "traceback": [
      "\u001b[0;31m---------------------------------------------------------------------------\u001b[0m",
      "\u001b[0;31mNameError\u001b[0m                                 Traceback (most recent call last)",
      "\u001b[0;32m<ipython-input-12-c36e4132a239>\u001b[0m in \u001b[0;36m<module>\u001b[0;34m()\u001b[0m\n\u001b[0;32m----> 1\u001b[0;31m \u001b[0mcolores\u001b[0m\u001b[1;33m\u001b[0m\u001b[0m\n\u001b[0m",
      "\u001b[0;31mNameError\u001b[0m: name 'colores' is not defined"
     ]
    }
   ],
   "source": [
    "colores"
   ]
  },
  {
   "cell_type": "markdown",
   "metadata": {},
   "source": [
    "### Trabajando directamente con registros"
   ]
  },
  {
   "cell_type": "code",
   "execution_count": 5,
   "metadata": {
    "collapsed": true
   },
   "outputs": [],
   "source": [
    "edades = {'Hector':27,'Juan':45,'Maria':34}"
   ]
  },
  {
   "cell_type": "code",
   "execution_count": 6,
   "metadata": {
    "collapsed": false
   },
   "outputs": [
    {
     "data": {
      "text/plain": [
       "{'Hector': 27, 'Juan': 45, 'Maria': 34}"
      ]
     },
     "execution_count": 6,
     "metadata": {},
     "output_type": "execute_result"
    }
   ],
   "source": [
    "edades"
   ]
  },
  {
   "cell_type": "code",
   "execution_count": 7,
   "metadata": {
    "collapsed": true
   },
   "outputs": [],
   "source": [
    "edades['Hector']+=1"
   ]
  },
  {
   "cell_type": "code",
   "execution_count": 8,
   "metadata": {
    "collapsed": false
   },
   "outputs": [
    {
     "data": {
      "text/plain": [
       "{'Hector': 28, 'Juan': 45, 'Maria': 34}"
      ]
     },
     "execution_count": 8,
     "metadata": {},
     "output_type": "execute_result"
    }
   ],
   "source": [
    "edades"
   ]
  },
  {
   "cell_type": "code",
   "execution_count": 18,
   "metadata": {
    "collapsed": false
   },
   "outputs": [
    {
     "data": {
      "text/plain": [
       "79"
      ]
     },
     "execution_count": 18,
     "metadata": {},
     "output_type": "execute_result"
    }
   ],
   "source": [
    "edades['Juan'] + edades['Maria']"
   ]
  },
  {
   "cell_type": "markdown",
   "metadata": {},
   "source": [
    "## Lectura secuencial con for .. in ..\n",
    "Es posible utilizar una iteraciín for para recorrer los elementos del diccionario:"
   ]
  },
  {
   "cell_type": "code",
   "execution_count": 19,
   "metadata": {
    "collapsed": false
   },
   "outputs": [
    {
     "name": "stdout",
     "output_type": "stream",
     "text": [
      "Maria\n",
      "Hector\n",
      "Juan\n"
     ]
    }
   ],
   "source": [
    "for edad in edades:\n",
    "    print(edad)"
   ]
  },
  {
   "cell_type": "markdown",
   "metadata": {},
   "source": [
    "### El problema es que se devuelven las claves, no los valores\n",
    "Para solucionarlo deberíamos indicar la clave del diccionario para cada elemento."
   ]
  },
  {
   "cell_type": "code",
   "execution_count": 20,
   "metadata": {
    "collapsed": false
   },
   "outputs": [
    {
     "name": "stdout",
     "output_type": "stream",
     "text": [
      "34\n",
      "28\n",
      "45\n"
     ]
    }
   ],
   "source": [
    "for clave in edades:\n",
    "    print(edades[clave])"
   ]
  },
  {
   "cell_type": "code",
   "execution_count": 21,
   "metadata": {
    "collapsed": false
   },
   "outputs": [
    {
     "name": "stdout",
     "output_type": "stream",
     "text": [
      "Maria 34\n",
      "Hector 28\n",
      "Juan 45\n"
     ]
    }
   ],
   "source": [
    "for clave in edades:\n",
    "    print(clave,edades[clave])"
   ]
  },
  {
   "cell_type": "code",
   "execution_count": 11,
   "metadata": {
    "collapsed": false
   },
   "outputs": [
    {
     "name": "stdout",
     "output_type": "stream",
     "text": [
      "Hector\n",
      "Juan\n",
      "Maria\n",
      "28\n",
      "45\n",
      "34\n",
      "Hector 28\n",
      "Juan 45\n",
      "Maria 34\n"
     ]
    }
   ],
   "source": [
    "# ejemplos isa\n",
    "\n",
    "# imprimir solo la clave\n",
    "for clave in edades:\n",
    "    print(clave)\n",
    "    \n",
    "#imprimir solo el valor\n",
    "for clave in edades:\n",
    "    print(edades[clave])\n",
    "\n",
    "#imprimir clave y valor\n",
    "for clave in edades:\n",
    "    print(clave, edades[clave])"
   ]
  },
  {
   "cell_type": "markdown",
   "metadata": {},
   "source": [
    "### El método .items()\n",
    "Nos facilita la lectura en clave y valor de los elementos porque devuelve ambos valores en cada iteración automáticamente:"
   ]
  },
  {
   "cell_type": "code",
   "execution_count": 23,
   "metadata": {
    "collapsed": false
   },
   "outputs": [
    {
     "name": "stdout",
     "output_type": "stream",
     "text": [
      "Maria 34\n",
      "Hector 28\n",
      "Juan 45\n"
     ]
    }
   ],
   "source": [
    "for c,v in edades.items():\n",
    "    print(c,v)"
   ]
  },
  {
   "cell_type": "markdown",
   "metadata": {},
   "source": [
    "## Ejemplo utilizando diccionarios y listas a la vez\n",
    "Podemos crear nuestras propias estructuras avanzadas mezclando ambas colecciones. Mientras los diccionarios se encargarían de manejar las propiedades individuales de los registros, las listas nos permitirían manejarlos todos en conjunto."
   ]
  },
  {
   "cell_type": "code",
   "execution_count": 24,
   "metadata": {
    "collapsed": true
   },
   "outputs": [],
   "source": [
    "personajes = []"
   ]
  },
  {
   "cell_type": "code",
   "execution_count": 1,
   "metadata": {
    "collapsed": true
   },
   "outputs": [],
   "source": [
    "p = {'Nombre':'Gandalf','Clase':'Mago','Raza':'Humano'}  # No sé si era un humano pero lo parecía jeje"
   ]
  },
  {
   "cell_type": "code",
   "execution_count": 26,
   "metadata": {
    "collapsed": true
   },
   "outputs": [],
   "source": [
    "personajes.append(p)"
   ]
  },
  {
   "cell_type": "code",
   "execution_count": 27,
   "metadata": {
    "collapsed": false
   },
   "outputs": [
    {
     "data": {
      "text/plain": [
       "[{'Clase': 'Mago', 'Nombre': 'Gandalf', 'Raza': 'Humano'}]"
      ]
     },
     "execution_count": 27,
     "metadata": {},
     "output_type": "execute_result"
    }
   ],
   "source": [
    "personajes"
   ]
  },
  {
   "cell_type": "code",
   "execution_count": 28,
   "metadata": {
    "collapsed": true
   },
   "outputs": [],
   "source": [
    "p = {'Nombre':'Legolas','Clase':'Arquero','Raza':'Elfo'}"
   ]
  },
  {
   "cell_type": "code",
   "execution_count": 29,
   "metadata": {
    "collapsed": true
   },
   "outputs": [],
   "source": [
    "personajes.append(p)"
   ]
  },
  {
   "cell_type": "code",
   "execution_count": 30,
   "metadata": {
    "collapsed": true
   },
   "outputs": [],
   "source": [
    "p = {'Nombre':'Gimli','Clase':'Guerrero','Raza':'Enano'}"
   ]
  },
  {
   "cell_type": "code",
   "execution_count": 31,
   "metadata": {
    "collapsed": true
   },
   "outputs": [],
   "source": [
    "personajes.append(p)"
   ]
  },
  {
   "cell_type": "code",
   "execution_count": 32,
   "metadata": {
    "collapsed": false
   },
   "outputs": [
    {
     "data": {
      "text/plain": [
       "[{'Clase': 'Mago', 'Nombre': 'Gandalf', 'Raza': 'Humano'},\n",
       " {'Clase': 'Arquero', 'Nombre': 'Legolas', 'Raza': 'Elfo'},\n",
       " {'Clase': 'Guerrero', 'Nombre': 'Gimli', 'Raza': 'Enano'}]"
      ]
     },
     "execution_count": 32,
     "metadata": {},
     "output_type": "execute_result"
    }
   ],
   "source": [
    "personajes"
   ]
  },
  {
   "cell_type": "code",
   "execution_count": 33,
   "metadata": {
    "collapsed": false
   },
   "outputs": [
    {
     "name": "stdout",
     "output_type": "stream",
     "text": [
      "Gandalf Mago Humano\n",
      "Legolas Arquero Elfo\n",
      "Gimli Guerrero Enano\n"
     ]
    }
   ],
   "source": [
    "for p in personajes:\n",
    "    print(p['Nombre'], p['Clase'], p['Raza'])"
   ]
  },
  {
   "cell_type": "markdown",
   "metadata": {
    "collapsed": true
   },
   "source": [
    "#### Nota: Estaba pensando que Gandalf en realidad no era un humano, pero como parecía uno podéis disculparme jeje"
   ]
  },
  {
   "cell_type": "code",
   "execution_count": 62,
   "metadata": {
    "collapsed": false
   },
   "outputs": [
    {
     "name": "stdout",
     "output_type": "stream",
     "text": [
      "nombre : Colombia\n",
      "ubicacion : america\n",
      "poblacion (m) : 48\n",
      "moneda : peso\n",
      "abr moneda : co\n",
      "------------------------------\n",
      "nombre : Estados Unidos\n",
      "ubicacion : america\n",
      "poblacion (m) : 323\n",
      "moneda : dolar\n",
      "abr moneda : usd\n",
      "------------------------------\n",
      "nombre : Francia\n",
      "ubicacion : Europa\n",
      "poblacion (m) : 67\n",
      "moneda : euro\n",
      "abr moneda : eu\n",
      "------------------------------\n",
      "nombre : República Popular China\n",
      "ubicacion : asia\n",
      "poblacion (m) : 1379\n",
      "moneda : Renminbi\n",
      "abr moneda : yuan\n",
      "------------------------------\n",
      "nombre : alienlandia\n",
      "ubicacion : marte\n",
      "poblacion (m) : 1500\n",
      "moneda : ninguna\n",
      "abr moneda : na\n",
      "------------------------------\n",
      "nombre : Rusia\n",
      "ubicacion : asia\n",
      "poblacion (m) : 144\n",
      "moneda : Rublo ruso\n",
      "abr moneda : kopek \n",
      "------------------------------\n",
      "Pais: Colombia\n",
      "Pais: Estados Unidos\n",
      "Pais: Francia\n",
      "Pais: República Popular China\n",
      "Pais: alienlandia\n",
      "Pais: Rusia\n",
      "----------------------------------------------------------------------------------------------------\n",
      "\n",
      "Moneda: peso - Abreviacion: co\n",
      "Moneda: dolar - Abreviacion: usd\n",
      "Moneda: euro - Abreviacion: eu\n",
      "Moneda: Renminbi - Abreviacion: yuan\n",
      "Moneda: ninguna - Abreviacion: na\n",
      "Moneda: Rublo ruso - Abreviacion: kopek \n",
      "----------------------------------------------------------------------------------------------------\n",
      "\n",
      "El Pais Colombia esta ubicado en america\n",
      "El Pais Estados Unidos esta ubicado en america\n",
      "El Pais Francia esta ubicado en Europa\n",
      "El Pais República Popular China esta ubicado en asia\n",
      "El Pais alienlandia esta ubicado en marte\n",
      "El Pais Rusia esta ubicado en asia\n",
      "----------------------------------------------------------------------------------------------------\n",
      "\n",
      "los paises ubicados en America son:\n",
      "Colombia\n",
      "Estados Unidos\n"
     ]
    }
   ],
   "source": [
    "# Ejercicio isa, listas con diccionarios\n",
    "paises = []\n",
    "\n",
    "colombia = {'nombre':'Colombia', 'ubicacion':'america', 'poblacion (m)': 48, \\\n",
    "            'moneda': 'peso', 'abr moneda':'co'}\n",
    "estados_unidos = {'nombre':'Estados Unidos', 'ubicacion':'america', \\\n",
    "                  'poblacion (m)': 323, 'moneda': 'dolar', 'abr moneda':'usd'}\n",
    "francia = {'nombre':'Francia', 'ubicacion':'Europa', 'poblacion (m)': 67, \\\n",
    "           'moneda': 'euro', 'abr moneda':'eu'}\n",
    "china = {'nombre':'República Popular China', 'ubicacion':'asia', \\\n",
    "         'poblacion (m)': 1379, 'moneda': 'Renminbi', 'abr moneda':'yuan'}\n",
    "\n",
    "paises.append(colombia)\n",
    "paises.append(estados_unidos)\n",
    "paises.append(francia)\n",
    "paises.append(china)\n",
    "\n",
    "paises.append({'nombre':'inventado', 'ubicacion':'marte', 'poblacion (m)': 1500, \\\n",
    "           'moneda': 'ninguna', 'abr moneda':'na'})  \n",
    "\n",
    "paises.append({'nombre':'Rusia', 'ubicacion':'asia', 'poblacion (m)': 144, \\\n",
    "           'moneda': 'Rublo ruso', 'abr moneda':'kopek '})   \n",
    "\n",
    "# modificar el nombre de inventado por alienland\n",
    "for p in paises:\n",
    "    for k,v in p.items():\n",
    "        if k == 'nombre' and v == 'inventado':\n",
    "            p[k] = 'alienlandia'\n",
    "\n",
    "\n",
    "# mostrar todos los datos de la lista\n",
    "for p in paises:\n",
    "    for k,v in p.items():\n",
    "        print(k+' : '+str(v))\n",
    "    print('-'*30)\n",
    "\n",
    "# mostrar los nombres de los paises\n",
    "for p in paises:\n",
    "    print('Pais: ' + p['nombre'])\n",
    "print('-'*100+'\\n')\n",
    "\n",
    "# mostrar moneda y abreviacion\n",
    "for p in paises:\n",
    "    print('Moneda: ' + p['moneda'] + ' - Abreviacion: ' + p['abr moneda'])\n",
    "print('-'*100+'\\n')\n",
    "\n",
    "# mostrar nombre de pais y ubicacion\n",
    "for p in paises:\n",
    "    print('El Pais ' + p['nombre'] + ' esta ubicado en ' + p['ubicacion'])\n",
    "print('-'*100+'\\n')\n",
    "\n",
    "#los paises ubicados en america\n",
    "print('los paises ubicados en America son:')\n",
    "for p in paises:\n",
    "    if p['ubicacion'] == 'america':\n",
    "        print(p['nombre'])\n"
   ]
  },
  {
   "cell_type": "code",
   "execution_count": 63,
   "metadata": {
    "collapsed": false
   },
   "outputs": [
    {
     "name": "stdout",
     "output_type": "stream",
     "text": [
      "El pais con mayor poblacion es alienlandia con un total de 1500 millones de habitantes\n"
     ]
    }
   ],
   "source": [
    "# el pais con mayor poblacion\n",
    "pais = []\n",
    "poblacion = []\n",
    "mas_grande = 0\n",
    "\n",
    "for p in paises:\n",
    "    for key in p:\n",
    "        if key == 'nombre':\n",
    "            pais.append(p[key])\n",
    "        if key == 'poblacion (m)':\n",
    "            poblacion.append(p[key])\n",
    "\n",
    "mas_grande = max(poblacion)\n",
    "\n",
    "indice_pais = poblacion.index(mas_grande)\n",
    "p = pais[indice_pais]\n",
    "\n",
    "print('El pais con mayor poblacion es {} con un total de {} millones de habitantes'.format(p, mas_grande))\n",
    "        "
   ]
  },
  {
   "cell_type": "code",
   "execution_count": 6,
   "metadata": {
    "collapsed": false
   },
   "outputs": [
    {
     "name": "stdout",
     "output_type": "stream",
     "text": [
      "Se agrego el contacto: Luisa\n",
      "Se agrego el contacto: Oscar\n",
      "Se agrego el contacto: Percy\n",
      "Se agrego el contacto: Karen\n",
      "******************************\n",
      "\n",
      "Se elimino el contacto: Oscar\n",
      "Se modifico el contacto: Percy\n",
      "******************************\n",
      "\n",
      "Llamando a: Percy ... 1-2-3-4-5-6 el dia 17/12/2017\n",
      "Llamando a: Mama ... 3-1-5-3-1-6-5-6-5-1 el dia 17/12/2017\n",
      "Llamando a: Luisa ... 3-1-2-0-0-5-9-6-6-8 el dia 17/12/2017\n",
      "******************************\n",
      "\n",
      "para: Mama- Mensaje: te amo mami\n",
      "para: Luisa- Mensaje: prima te quiero\n",
      "para: Percy- Mensaje: eres el gatito mas hermoso\n",
      "para: Mama- Mensaje: cocinas delicioso mami\n",
      "\n",
      "\n",
      "Historial de llamadas\n",
      "******************************\n",
      "{'percy': '17/12/2017', 'mama': '17/12/2017', 'luisa': '17/12/2017'}\n",
      "\n",
      "\n",
      "Historial de Mensajes\n",
      "******************************\n",
      "{'mama': 'cocinas delicioso mami', 'luisa': 'prima te quiero', 'percy': 'eres el gatito mas hermoso'}\n"
     ]
    }
   ],
   "source": [
    "# Ejercicio isa, agenda telefonica\n",
    "from datetime import datetime\n",
    "\n",
    "directorio = {'mama': 3153165651, 'papa': 3002229158, 'hermano': 3188252832}\n",
    "\n",
    "# nombre : fecha\n",
    "hist_llamadas = {}\n",
    "\n",
    "# nombre : mensaje\n",
    "hist_mensajes = {}\n",
    "\n",
    "fecha = datetime.now()\n",
    "fecha = str(fecha.day)+'/'+str(fecha.month)+'/'+str(fecha.year) \n",
    "\n",
    "def agregar_contacto(nombre, telefono):\n",
    "    directorio[nombre] = telefono\n",
    "    print('Se agrego el contacto: '+nombre.capitalize())\n",
    "\n",
    "def eliminar_contacto(nombre):\n",
    "    del(directorio[nombre])\n",
    "    print('Se elimino el contacto: '+nombre.capitalize())\n",
    "\n",
    "def modificar_contacto(nombre, telefono_nuevo):\n",
    "    print('Se modifico el contacto: '+nombre)\n",
    "    directorio[nombre] = telefono_nuevo\n",
    "    \n",
    "#modificar para formar un diccionario con el historial de llamadas    \n",
    "def llamar_contacto(nombre):\n",
    "    hist_llamadas[nombre] = str(fecha)\n",
    "    print('Llamando a: '+nombre.capitalize()+' ... '+'-'.join(str(directorio[nombre])) \\\n",
    "          + ' el dia '+fecha)\n",
    "\n",
    "def enviar_mensaje(nombre, mensaje):\n",
    "    print('para: '+nombre.capitalize()+'- Mensaje: '+mensaje)\n",
    "    hist_mensajes[nombre] = mensaje\n",
    "    \n",
    "agregar_contacto('luisa', 3120059668)\n",
    "agregar_contacto('oscar', 5603232)\n",
    "agregar_contacto('percy', 123456)\n",
    "agregar_contacto('karen', 4120059600)\n",
    "print('*'*30+'\\n')\n",
    "eliminar_contacto('oscar')\n",
    "modificar_contacto('Percy', 1111111)\n",
    "print('*'*30+'\\n')\n",
    "llamar_contacto('percy')\n",
    "llamar_contacto('mama')\n",
    "llamar_contacto('luisa')\n",
    "print('*'*30+'\\n')\n",
    "enviar_mensaje('mama', 'te amo mami')\n",
    "enviar_mensaje('luisa', 'prima te quiero')\n",
    "enviar_mensaje('percy', 'eres el gatito mas hermoso')\n",
    "enviar_mensaje('mama', 'cocinas delicioso mami')\n",
    "print('\\n')\n",
    "print('Historial de llamadas\\n'+ '*'*30)\n",
    "print(hist_llamadas)\n",
    "print('\\n')\n",
    "print('Historial de Mensajes\\n'+ '*'*30)\n",
    "print(hist_mensajes)"
   ]
  },
  {
   "cell_type": "code",
   "execution_count": 7,
   "metadata": {
    "collapsed": false
   },
   "outputs": [
    {
     "data": {
      "text/plain": [
       "dict_keys(['mama', 'papa', 'hermano', 'luisa', 'percy', 'karen', 'Percy'])"
      ]
     },
     "execution_count": 7,
     "metadata": {},
     "output_type": "execute_result"
    }
   ],
   "source": [
    "directorio.keys()"
   ]
  },
  {
   "cell_type": "code",
   "execution_count": 8,
   "metadata": {
    "collapsed": false
   },
   "outputs": [
    {
     "data": {
      "text/plain": [
       "OrderedDict([('Percy', 1111111),\n",
       "             ('hermano', 3188252832),\n",
       "             ('karen', 4120059600),\n",
       "             ('luisa', 3120059668),\n",
       "             ('mama', 3153165651),\n",
       "             ('papa', 3002229158),\n",
       "             ('percy', 123456)])"
      ]
     },
     "execution_count": 8,
     "metadata": {},
     "output_type": "execute_result"
    }
   ],
   "source": [
    "from collections import OrderedDict\n",
    "\n",
    "d = OrderedDict(sorted(directorio.items(), key=lambda t: t[0]))\n",
    "\n",
    "d"
   ]
  },
  {
   "cell_type": "code",
   "execution_count": 5,
   "metadata": {
    "collapsed": false
   },
   "outputs": [
    {
     "name": "stdout",
     "output_type": "stream",
     "text": [
      "OrderedDict([('apple', 4), ('banana', 3), ('orange', 2), ('pear', 1)])\n"
     ]
    }
   ],
   "source": [
    "from collections import OrderedDict\n",
    "# regular unsorted dictionary\n",
    "d = {'banana': 3, 'apple': 4, 'pear': 1, 'orange': 2}\n",
    "\n",
    "# dictionary sorted by key\n",
    "d = OrderedDict(sorted(d.items(), key=lambda t: t[0]))\n",
    "OrderedDict([('apple', 4), ('banana', 3), ('orange', 2), ('pear', 1)])\n",
    "\n",
    "# dictionary sorted by value\n",
    "OrderedDict(sorted(d.items(), key=lambda t: t[1]))\n",
    "OrderedDict([('pear', 1), ('orange', 2), ('banana', 3), ('apple', 4)])\n",
    "\n",
    "# dictionary sorted by length of the key string\n",
    "OrderedDict(sorted(d.items(), key=lambda t: len(t[0])))\n",
    "OrderedDict([('pear', 1), ('apple', 4), ('orange', 2), ('banana', 3)])\n",
    "\n"
   ]
  },
  {
   "cell_type": "code",
   "execution_count": 6,
   "metadata": {
    "collapsed": false
   },
   "outputs": [
    {
     "data": {
      "text/plain": [
       "OrderedDict([('apple', 4), ('banana', 3), ('orange', 2), ('pear', 1)])"
      ]
     },
     "execution_count": 6,
     "metadata": {},
     "output_type": "execute_result"
    }
   ],
   "source": [
    "d"
   ]
  }
 ],
 "metadata": {
  "kernelspec": {
   "display_name": "Python 3",
   "language": "python",
   "name": "python3"
  },
  "language_info": {
   "codemirror_mode": {
    "name": "ipython",
    "version": 3
   },
   "file_extension": ".py",
   "mimetype": "text/x-python",
   "name": "python",
   "nbconvert_exporter": "python",
   "pygments_lexer": "ipython3",
   "version": "3.6.0"
  }
 },
 "nbformat": 4,
 "nbformat_minor": 0
}
