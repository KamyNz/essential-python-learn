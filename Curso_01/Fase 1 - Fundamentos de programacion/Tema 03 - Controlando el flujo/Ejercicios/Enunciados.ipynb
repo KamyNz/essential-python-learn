{
 "cells": [
  {
   "cell_type": "markdown",
   "metadata": {},
   "source": [
    "# Tema 03: Control de flujo (Enunciados)\n",
    "*Nota: Estos ejercicios son optativos para hacer al final de la unidad y están pensados para apoyar tu aprendizaje*."
   ]
  },
  {
   "cell_type": "markdown",
   "metadata": {},
   "source": [
    "**1) Realiza un programa que lea dos números por teclado y permita elegir entre 3 opciones en un menú:** \n",
    "* Mostrar una suma de los dos números\n",
    "* Mostrar una resta de los dos números (el primero menos el segundo)\n",
    "* Mostrar una multiplicación de los dos números\n",
    "* En caso de no introducir una opción válida, el programa informará de que no es correcta."
   ]
  },
  {
   "cell_type": "code",
   "execution_count": 5,
   "metadata": {
    "collapsed": false
   },
   "outputs": [
    {
     "name": "stdout",
     "output_type": "stream",
     "text": [
      "Digita el primer numero: 2\n",
      "Digita el segundo numero: 3\n",
      "¿Qué quieres hacer? Escribe una opción\n",
      "    1) sumar dos números\n",
      "    2) Restar dos números\n",
      "    3) Multiplicar dos números\n",
      "    4) Salir\n",
      "Digita la opcion: 4\n",
      "¡Hasta luego! Ha sido un placer ayudarte\n"
     ]
    }
   ],
   "source": [
    "# Completa el ejercicio aquí\n",
    "n1 = float(input(\"Digita el primer numero: \"))\n",
    "n2 = float(input(\"Digita el segundo numero: \"))\n",
    "\n",
    "print(\"\"\"¿Qué quieres hacer? Escribe una opción\n",
    "    1) sumar dos números\n",
    "    2) Restar dos números\n",
    "    3) Multiplicar dos números\n",
    "    4) Salir\"\"\")\n",
    "\n",
    "opcion = int(input(\"Digita la opcion: \"))\n",
    "    \n",
    "if opcion == 1:\n",
    "    print(\"El resultado de la suma es: \",n1 + n2)\n",
    "elif opcion == 2:\n",
    "    print(\"El resultado de la resta es: \",n1 - n2)\n",
    "elif opcion == 3:\n",
    "    print(\"El resultado de la multiplicacion es: \",n1 * n2)\n",
    "elif opcion == 4:\n",
    "    print(\"¡Hasta luego! Ha sido un placer ayudarte\")\n",
    "else:\n",
    "    print(\"Comando desconocido, vuelve a intentarlo\")\n",
    "        \n",
    "        "
   ]
  },
  {
   "cell_type": "markdown",
   "metadata": {},
   "source": [
    "**2) Realiza un programa que lea un número impar por teclado. Si el usuario no introduce un número impar, debe repetise el proceso hasta que lo introduzca correctamente.**"
   ]
  },
  {
   "cell_type": "code",
   "execution_count": 7,
   "metadata": {
    "collapsed": false
   },
   "outputs": [
    {
     "name": "stdout",
     "output_type": "stream",
     "text": [
      "digita un numero impar6\n",
      "El numero es:  6\n",
      "digita un numero impar3\n",
      "El numero es:  3\n"
     ]
    }
   ],
   "source": [
    "# Completa el ejercicio aquí\n",
    "\n",
    "numero_impar = 0\n",
    "while numero_impar % 2 == 0: #(mientras sea par se repite el proceso)\n",
    "    numero_impar = int(input('digita un numero impar: '))\n",
    "    print('El numero es: ', numero_impar)\n",
    "    \n"
   ]
  },
  {
   "cell_type": "markdown",
   "metadata": {},
   "source": [
    "**3) Realiza un programa que sume todos los números enteros pares desde el 0 hasta el 100:**\n",
    "\n",
    "*Sugerencia: Puedes utilizar la funciones sum() y range() para hacerlo más fácil. El tercer parámetro en la función range(inicio, fin, salto) indica un salto de números, pruébalo.*"
   ]
  },
  {
   "cell_type": "code",
   "execution_count": 23,
   "metadata": {
    "collapsed": false
   },
   "outputs": [
    {
     "name": "stdout",
     "output_type": "stream",
     "text": [
      "2550\n"
     ]
    }
   ],
   "source": [
    "# Completa el ejercicio aquí\n",
    "lista = list(range(0, 101, 2)) #adiciono un numero mas al 100 para que se incluya\n",
    "print(sum(lista)) \n"
   ]
  },
  {
   "cell_type": "markdown",
   "metadata": {},
   "source": [
    "**4) Realiza un programa que pida al usuario cuantos números quiere introducir. Luego lee todos los números y realiza una media aritmética:**\n"
   ]
  },
  {
   "cell_type": "code",
   "execution_count": 25,
   "metadata": {
    "collapsed": false
   },
   "outputs": [
    {
     "name": "stdout",
     "output_type": "stream",
     "text": [
      "cuantos numeros quieres sumar? 2\n",
      "Numero:  1\n",
      "3.7\n",
      "Numero:  2\n",
      "4.1\n",
      "la suma de los numeros es:  7.8\n",
      "la media aritmetica de los numeros es:  3.9\n"
     ]
    }
   ],
   "source": [
    "# Completa el ejercicio aquí\n",
    "numeros = int(input('cuantos numeros quieres sumar? '))\n",
    "i = 0\n",
    "suma = 0\n",
    "while i < numeros:\n",
    "    i += 1\n",
    "    print('Numero: ', i)\n",
    "    suma += float(input())\n",
    "    \n",
    "print('la suma de los numeros es: ', suma)\n",
    "print('la media aritmetica de los numeros es: ', suma/numeros)"
   ]
  },
  {
   "cell_type": "code",
   "execution_count": 27,
   "metadata": {
    "collapsed": false
   },
   "outputs": [
    {
     "name": "stdout",
     "output_type": "stream",
     "text": [
      "cuantos numeros quieres sumar? 2\n",
      "Numero:  0\n",
      "3.7\n",
      "Numero:  1\n",
      "4.1\n",
      "Se han introducido 2 números que en total han sumado 7.8 y la media es 3.9\n"
     ]
    }
   ],
   "source": [
    "#otra forma\n",
    "numeros = int(input('cuantos numeros quieres sumar? '))\n",
    "suma = 0\n",
    "\n",
    "for i in range(numeros):\n",
    "    print('Numero: ', i)\n",
    "    suma += float(input())\n",
    "    \n",
    "print(\"Se han introducido\",numeros,\"números que en total han sumado\",suma,\"y la media es\",suma/numeros)"
   ]
  },
  {
   "cell_type": "markdown",
   "metadata": {},
   "source": [
    "**5) Realiza un programa que pida al usuario un número entero del 0 al 9, y que mientras el número no sea correcto se repita el proceso. Luego debe comprobar si el número se encuentra en la lista de números y notificarlo:**\n",
    "\n",
    "*Consejo: La sintaxis \"valor in lista\" permite comprobar fácilmente si un valor se encuentra en una lista (devuelve True o False)*"
   ]
  },
  {
   "cell_type": "code",
   "execution_count": 32,
   "metadata": {
    "collapsed": false
   },
   "outputs": [
    {
     "name": "stdout",
     "output_type": "stream",
     "text": [
      "Escribe un número del 0 al 9: 5\n",
      "El número 5 no se encuentra en la lista [1, 3, 6, 9]\n"
     ]
    }
   ],
   "source": [
    "# Completa el ejercicio aquí\n",
    "numeros = [1, 3, 6, 9]\n",
    "\n",
    "while True:\n",
    "    numero = int(input(\"Escribe un número del 0 al 9: \"))\n",
    "    if numero >= 0 and numero <= 9:\n",
    "        break\n",
    "if numero in numeros:\n",
    "    print(\"El número\",numero,\"se encuentra en la lista\",numeros)\n",
    "else:\n",
    "    print(\"El número\",numero,\"no se encuentra en la lista\",numeros)"
   ]
  },
  {
   "cell_type": "markdown",
   "metadata": {},
   "source": [
    "**6) Utilizando la función range() y la conversión a listas genera las siguientes listas dinámicamente:**\n",
    "1. Todos los números del 0 al 10 [0, 1, 2, ..., 10]\n",
    "2. Todos los números del -10 al 0 [-10, -9, -8, ..., 0]\n",
    "3. Todos los números pares del 0 al 20 [0, 2, 4, ..., 20]\n",
    "4. Todos los números impares entre -20 y 0 [-19, -17, -15, ..., -1]\n",
    "5. Todos los números múltiples de 5 del 0 al 50 [0, 5, 10, ..., 50]\n",
    "\n",
    "*Pista: Utiliza el tercer parámetro de la función range(inicio, fin, salto).*"
   ]
  },
  {
   "cell_type": "code",
   "execution_count": 44,
   "metadata": {
    "collapsed": false
   },
   "outputs": [
    {
     "name": "stdout",
     "output_type": "stream",
     "text": [
      "[0, 1, 2, 3, 4, 5, 6, 7, 8, 9, 10]\n",
      "[-10, -9, -8, -7, -6, -5, -4, -3, -2, -1, 0]\n",
      "[0, 2, 4, 6, 8, 10, 12, 14, 16, 18, 20]\n",
      "[-19, -18, -17, -16, -15, -14, -13, -12, -11, -10, -9, -8, -7, -6, -5, -4, -3, -2, -1]\n",
      "[0, 5, 10, 15, 20, 25, 30, 35, 40, 45, 50]\n"
     ]
    }
   ],
   "source": [
    "# Completa el ejercicio\n",
    "lista_1 = list(range(11))\n",
    "lista_2 = list(range(-10,1))\n",
    "lista_3 = list(range(0,21,2))\n",
    "lista_4 = list(range(-19,0,1))\n",
    "lista_5 = list(range(0,51,5))\n",
    "\n",
    "print(lista_1)\n",
    "print(lista_2)\n",
    "print(lista_3)\n",
    "print(lista_4)\n",
    "print(lista_5)\n",
    "        "
   ]
  },
  {
   "cell_type": "markdown",
   "metadata": {},
   "source": [
    "**7) Dadas dos listas, debes generar una tercera con todos los elementos que se repitan en ellas, pero no debe repetise ningún elemento en la nueva lista:**"
   ]
  },
  {
   "cell_type": "code",
   "execution_count": 60,
   "metadata": {
    "collapsed": false
   },
   "outputs": [
    {
     "name": "stdout",
     "output_type": "stream",
     "text": [
      "['u', 'l', 'a', 'o']\n"
     ]
    }
   ],
   "source": [
    "# Completa el ejercicio aquí\n",
    "lista_1 = ['m','u','r','c','i','e','l','a','g','o']\n",
    "lista_2 = [\"h\",'o','l','a',' ', 'l','u','n','a']\n",
    "\n",
    "lista_3 = []\n",
    "\n",
    "for letra in lista_1:\n",
    "    if letra in lista_2 and letra not in lista_3:\n",
    "        lista_3.append(letra)\n",
    "\n",
    "print(lista_3)\n"
   ]
  },
  {
   "cell_type": "code",
   "execution_count": 71,
   "metadata": {
    "collapsed": false
   },
   "outputs": [
    {
     "name": "stdout",
     "output_type": "stream",
     "text": [
      "[1, 2, 3, 4, 5]\n",
      "[3, 4, 5, 1, 2]\n",
      "[1, 2, 3, 4, 5]\n"
     ]
    }
   ],
   "source": [
    "a = [1, 2, 3, 1, 2, 3]\n",
    "b = [3, 4, 5, 5]\n",
    "\n",
    "# eliminar elementos repetidos para que la salida sea una nueva lista con los elementos unicos\n",
    "# c = [1, 2, 3, 4, 5]\n",
    "\n",
    "def eliminar_repetidos(lista):\n",
    "    lista_nueva = []\n",
    "    for i in lista:\n",
    "        if not i in lista_nueva:\n",
    "            lista_nueva.append(i)\n",
    "    return lista_nueva\n",
    "\n",
    "# respeta el orden original de la lista\n",
    "c = a + b\n",
    "cc = b + a\n",
    "print(eliminar_repetidos(c))\n",
    "print(eliminar_repetidos(cc))\n",
    "\n",
    "# utilizando conjuntos, aqui no se respeta el orden original de la lista\n",
    "d = list(set(c))\n",
    "print(d)"
   ]
  }
 ],
 "metadata": {
  "anaconda-cloud": {},
  "kernelspec": {
   "display_name": "Python 3",
   "language": "python",
   "name": "python3"
  },
  "language_info": {
   "codemirror_mode": {
    "name": "ipython",
    "version": 3
   },
   "file_extension": ".py",
   "mimetype": "text/x-python",
   "name": "python",
   "nbconvert_exporter": "python",
   "pygments_lexer": "ipython3",
   "version": "3.6.0"
  }
 },
 "nbformat": 4,
 "nbformat_minor": 0
}
